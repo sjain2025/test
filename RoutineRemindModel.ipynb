{
  "cells": [
    {
      "cell_type": "code",
      "source": [
        "!pip install sklearn_crfsuite\n",
        "import sklearn_crfsuite"
      ],
      "metadata": {
        "id": "9fQotiCglPGL"
      },
      "execution_count": null,
      "outputs": []
    },
    {
      "cell_type": "code",
      "execution_count": null,
      "metadata": {
        "id": "jG5V2Hk8iy6G"
      },
      "outputs": [],
      "source": [
        "import rasa_nlu\n",
        "import rasa_core\n",
        "import warnings\n",
        "warnings.filterwarnings('ignore')\n",
        "\n",
        "\n",
        "print(\"rasa_nlu: {} rasa_core: {}\".format(rasa_nlu.__version__, rasa_core.__version__))"
      ]
    },
    {
      "cell_type": "code",
      "execution_count": null,
      "metadata": {
        "id": "l4XWiBm-iy6H"
      },
      "outputs": [],
      "source": [
        "!pip install rasa_nlu\n",
        "!pip install rasa_core"
      ]
    },
    {
      "cell_type": "markdown",
      "metadata": {
        "id": "AkEyhcoEiy6H"
      },
      "source": [
        "## 1. Natural Language Understanding "
      ]
    },
    {
      "cell_type": "markdown",
      "metadata": {
        "id": "cgCRJpKZiy6J"
      },
      "source": [
        "### 1.1. Designing a happy path"
      ]
    },
    {
      "cell_type": "markdown",
      "metadata": {
        "id": "h-ibipSFiy6K"
      },
      "source": [
        "### 1.2. Designing the NLU training data"
      ]
    },
    {
      "cell_type": "code",
      "execution_count": null,
      "metadata": {
        "colab": {
          "base_uri": "https://localhost:8080/"
        },
        "id": "cO-MJfx7iy6L",
        "outputId": "b764c9df-af5b-4c87-aa98-05ac8c658e0e"
      },
      "outputs": [
        {
          "output_type": "stream",
          "name": "stdout",
          "text": [
            "Writing 'nlu_md' (str) to file 'nlu.md'.\n"
          ]
        }
      ],
      "source": [
        "# Writing various intents with examples to nlu.md file\n",
        "\n",
        "nlu_md = \"\"\"\n",
        "## intent:greet\n",
        "- hey\n",
        "- hello there\n",
        "- hi\n",
        "- hello there\n",
        "- good morning\n",
        "- good evening\n",
        "- how far\n",
        "- hey there\n",
        "- whats up\n",
        "- hey dude\n",
        "- goodmorning\n",
        "- goodevening\n",
        "- good afternoon\n",
        "\n",
        "## intent:goodbye\n",
        "- good by\n",
        "- later\n",
        "- good night\n",
        "- good afternoon\n",
        "- bye\n",
        "- goodbye\n",
        "- have a nice day\n",
        "- see you around\n",
        "- bye bye\n",
        "- see you later\n",
        "\n",
        "## intent:thanks\n",
        "- thanks\n",
        "- thank you\n",
        "- appreciated\n",
        "- gracias\n",
        "\n",
        "\n",
        "## intent:sleep\n",
        "- when is bedtime\n",
        "- when is naptime\n",
        "- nap\n",
        "- sleep\n",
        "- tired\n",
        "- sleepy\n",
        "\n",
        "## intent: hungry\n",
        "- i am hungry\n",
        "- what time is lunch\n",
        "- what time is breakfast\n",
        "- what time is dinner\n",
        "- lunch\n",
        "- breakfast\n",
        "- dinner\n",
        "- snack time\n",
        "- snack\n",
        "\n",
        "\n",
        "## intent:schedule\n",
        "- what's next\n",
        "- what's in my schedule\n",
        "- schedule\n",
        "- do i have to do anything\n",
        "- what's next now\n",
        "- i don't know what to do\n",
        "\n",
        "\n",
        "## intent:tasks\n",
        "- what time is swimming\n",
        "- when do i have swimming\n",
        "- swimming \n",
        "- do i have to read\n",
        "- reading\n",
        "- what time do I have karate\n",
        "- karate\n",
        "\n",
        "\n",
        " \n",
        "\n",
        "\"\"\"\n",
        "\n",
        "\n",
        "%store nlu_md >nlu.md"
      ]
    },
    {
      "cell_type": "markdown",
      "metadata": {
        "id": "iOHVpQHLiy6M"
      },
      "source": [
        "\n",
        "## 1.3 Designing the training pipeline\n",
        "\n"
      ]
    },
    {
      "cell_type": "code",
      "execution_count": null,
      "metadata": {
        "colab": {
          "base_uri": "https://localhost:8080/"
        },
        "id": "gdzzd4k1iy6M",
        "outputId": "518d2b2d-194b-441c-bfc3-8e7a0e113da9"
      },
      "outputs": [
        {
          "output_type": "stream",
          "name": "stdout",
          "text": [
            "Writing 'configuration' (str) to file 'config.yml'.\n"
          ]
        }
      ],
      "source": [
        "configuration = \"\"\"\n",
        "language: \"en\"\n",
        "\n",
        "pipeline:\n",
        "- name: \"tokenizer_whitespace\"             # splits the sentence into tokens\n",
        "- name: \"ner_crf\"                   # uses the pretrained spacy NER model\n",
        "- name: \"intent_featurizer_count_vectors\"     # transform the sentence into a vector representation\n",
        "- name: \"intent_classifier_tensorflow_embedding\"   # intent classifier\n",
        "\"\"\" \n",
        "\n",
        "%store configuration > config.yml"
      ]
    },
    {
      "cell_type": "markdown",
      "metadata": {
        "id": "QC4jgaIyiy6N"
      },
      "source": [
        "## 1.4 Training the first Rasa NLU Model\n"
      ]
    },
    {
      "cell_type": "code",
      "execution_count": null,
      "metadata": {
        "scrolled": true,
        "id": "exfHgEDiiy6N"
      },
      "outputs": [],
      "source": [
        "from rasa_nlu.training_data import load_data\n",
        "from rasa_nlu.config import RasaNLUModelConfig\n",
        "from rasa_nlu.model import Trainer\n",
        "from rasa_nlu import config\n",
        "\n",
        "def train_nlu_model():\n",
        "    # loading the nlu training samples\n",
        "    training_data = load_data(\"nlu.md\")\n",
        "\n",
        "    # trainer to educate our pipeline\n",
        "    trainer = Trainer(config.load(\"config.yml\"))\n",
        "\n",
        "    # train the model!\n",
        "    interpreter = trainer.train(training_data)\n",
        "\n",
        "    # store it for future use\n",
        "    model_directory = trainer.persist(\"./models/current\", fixed_model_name=\"nlu\")\n",
        "    \n",
        "    return interpreter, model_directory\n",
        "\n"
      ]
    },
    {
      "cell_type": "markdown",
      "metadata": {
        "id": "bSDCsYc1iy6N"
      },
      "source": [
        "Finally, let's train the model using the previously defined data and model configuration:"
      ]
    },
    {
      "cell_type": "code",
      "execution_count": null,
      "metadata": {
        "id": "GmUm4_Kpiy6O"
      },
      "outputs": [],
      "source": [
        "interpreter, model_directory = train_nlu_model()"
      ]
    },
    {
      "cell_type": "markdown",
      "metadata": {
        "id": "SyUhDub3iy6O"
      },
      "source": [
        "## Testing the model\n",
        "\n",
        "We have trained the first version of our NLU model! Let's test it on various inputs:"
      ]
    },
    {
      "cell_type": "code",
      "execution_count": null,
      "metadata": {
        "id": "CgmMwiIwiy6O"
      },
      "outputs": [],
      "source": [
        "import logging, io, json, warnings\n",
        "logging.basicConfig(level=\"INFO\")\n",
        "warnings.filterwarnings('ignore')\n",
        "\n",
        "def pprint(o):\n",
        "    # small helper function to make dict dumps a bit prettier\n",
        "    print(json.dumps(o, indent=2))\n",
        "\n",
        "#change the input message with your prefered inputs\n",
        "input_message = \"What time is swimming\"\n",
        "pprint(interpreter.parse(input_message))"
      ]
    },
    {
      "cell_type": "markdown",
      "metadata": {
        "id": "KDwzTqmCiy6P"
      },
      "source": [
        "## Handling out-of-scope inputs\n",
        "When dealing with NLP models and AI, out-of-scope user inputs are very common challenge. These inputs represent the user requests which have nothing to do with the assistant's job. While it's very challenging to provide a sensible answer to each out-of-scope input, it's important to enable your assistant to identify such inputs and guide the user back to the conversation. First, let's enable our assistant to identify out-of-scope inputs. To do that, we will add a new intent called *out-of-scope* to our training dataset and provde some corresponding inputs:"
      ]
    },
    {
      "cell_type": "code",
      "execution_count": null,
      "metadata": {
        "id": "nxhdNaBoiy6P"
      },
      "outputs": [],
      "source": [
        "# Writing various intents with examples to nlu.md file\n",
        "\n",
        "nlu_md = \"\"\"\n",
        "## intent:greet\n",
        "- hey\n",
        "- hello there\n",
        "- hi\n",
        "- hello there\n",
        "- good morning\n",
        "- good evening\n",
        "- how far\n",
        "- hey there\n",
        "- whats up\n",
        "- hey dude\n",
        "- goodmorning\n",
        "- goodevening\n",
        "- good afternoon\n",
        "\n",
        "## intent:goodbye\n",
        "- good by\n",
        "- later\n",
        "- good night\n",
        "- good afternoon\n",
        "- bye\n",
        "- goodbye\n",
        "- have a nice day\n",
        "- see you around\n",
        "- bye bye\n",
        "- see you later\n",
        "\n",
        "## intent:thanks\n",
        "- thanks\n",
        "- thank you\n",
        "- appreciated\n",
        "- gracias\n",
        "\n",
        "\n",
        "## intent:sleep\n",
        "- when is bedtime\n",
        "- when is naptime\n",
        "- nap\n",
        "- sleep\n",
        "- tired\n",
        "- sleepy\n",
        "\n",
        "## intent: hungry\n",
        "- i am hungry\n",
        "- what time is lunch\n",
        "- what time is breakfast\n",
        "- what time is dinner\n",
        "- lunch\n",
        "- breakfast\n",
        "- dinner\n",
        "- snack time\n",
        "- snack\n",
        "\n",
        "\n",
        "## intent:schedule\n",
        "- what's next\n",
        "- what's in my schedule\n",
        "- schedule\n",
        "- do i have to do anything\n",
        "- what's next now\n",
        "- i don't know what to do\n",
        "\n",
        "\n",
        "## intent:tasks\n",
        "- what time is swimming\n",
        "- when do i have swimming\n",
        "- swimming \n",
        "- do i have to read\n",
        "- reading\n",
        "- what time do I have karate\n",
        "- karate\n",
        "\n",
        "\n",
        "## intent:out-of-scope\n",
        "- I want pizza\n",
        "- please help with my ice cream it's dripping\n",
        "- no wait go back i want a dripping ice cream but a cone that catches it so you can drink the ice cream later\n",
        "- i want a non dripping ice cream\n",
        "- hey little mama let em whisper in your ear\n",
        "- someone call the police i think the bot died\n",
        "- show me a picture of a chicken\n",
        "- neither\n",
        "- I want french cuisine\n",
        "- i am hungry\n",
        "- restaurants\n",
        "- restaurant\n",
        "- you're a loser lmao\n",
        "- can i be shown a gluten free restaurant\n",
        "- i don't care!!!!\n",
        "- i do not care how are you\n",
        "- again?\n",
        "- oh wait i gave you my work email address can i change it?\n",
        "- hang on let me find it\n",
        "- stop it, i do not care!!!\n",
        "- really? you're so touchy?\n",
        "- how come?\n",
        "- I changed my mind\n",
        "- what?\n",
        "- did i break you\n",
        "\n",
        " \n",
        "\n",
        "\"\"\"\n",
        "\n",
        "\n",
        "%store nlu_md >nlu.md"
      ]
    },
    {
      "cell_type": "code",
      "execution_count": null,
      "metadata": {
        "id": "Skgyad8_iy6Q"
      },
      "outputs": [],
      "source": [
        "interpreter, model_directory = train_nlu_model()"
      ]
    },
    {
      "cell_type": "code",
      "execution_count": null,
      "metadata": {
        "id": "EoJzmBkviy6Q"
      },
      "outputs": [],
      "source": [
        "input_message = \"I want pizza\"\n",
        "pprint(interpreter.parse(input_message))"
      ]
    },
    {
      "cell_type": "markdown",
      "metadata": {
        "id": "g26WYq_riy6R"
      },
      "source": [
        "## 1.6 Adding synonyms\n",
        "\n"
      ]
    },
    {
      "cell_type": "code",
      "execution_count": null,
      "metadata": {
        "id": "QMXiQZ4aiy6R"
      },
      "outputs": [],
      "source": [
        "# Writing various intents with examples to nlu.md file\n",
        "\n",
        "nlu_md = \"\"\"\n",
        "## intent:greet\n",
        "- hey\n",
        "- hello there\n",
        "- hi\n",
        "- hello there\n",
        "- good morning\n",
        "- good evening\n",
        "- how far\n",
        "- hey there\n",
        "- whats up\n",
        "- hey dude\n",
        "- goodmorning\n",
        "- goodevening\n",
        "- good afternoon\n",
        "\n",
        "## intent:goodbye\n",
        "- good by\n",
        "- later\n",
        "- good night\n",
        "- good afternoon\n",
        "- bye\n",
        "- goodbye\n",
        "- have a nice day\n",
        "- see you around\n",
        "- bye bye\n",
        "- see you later\n",
        "\n",
        "## intent:thanks\n",
        "- thanks\n",
        "- thank you\n",
        "- appreciated\n",
        "- gracias\n",
        "\n",
        "\n",
        "## intent:sleep\n",
        "- when is bedtime\n",
        "- when is naptime\n",
        "- nap\n",
        "- sleep\n",
        "- tired\n",
        "- sleepy\n",
        "\n",
        "## intent: hungry\n",
        "- i am hungry\n",
        "- what time is lunch\n",
        "- what time is breakfast\n",
        "- what time is dinner\n",
        "- lunch\n",
        "- breakfast\n",
        "- dinner\n",
        "- snack time\n",
        "- snack\n",
        "\n",
        "\n",
        "## intent:schedule\n",
        "- what's next\n",
        "- what's in my schedule\n",
        "- schedule\n",
        "- do i have to do anything\n",
        "- what's next now\n",
        "- i don't know what to do\n",
        "\n",
        "\n",
        "## intent:tasks\n",
        "- what time is swimming\n",
        "- when do i have swimming\n",
        "- swimming \n",
        "- do i have to read\n",
        "- reading\n",
        "- what time do I have karate\n",
        "- karate\n",
        "- homework\n",
        "- when do I have to do my homework\n",
        "\n",
        "\n",
        "## intent:out-of-scope\n",
        "- I want pizza\n",
        "- please help with my ice cream it's dripping\n",
        "- no wait go back i want a dripping ice cream but a cone that catches it so you can drink the ice cream later\n",
        "- i want a non dripping ice cream\n",
        "- hey little mama let em whisper in your ear\n",
        "- someone call the police i think the bot died\n",
        "- show me a picture of a chicken\n",
        "- neither\n",
        "- I want french cuisine\n",
        "- i am hungry\n",
        "- restaurants\n",
        "- restaurant\n",
        "- you're a loser lmao\n",
        "- can i be shown a gluten free restaurant\n",
        "- i don't care!!!!\n",
        "- i do not care how are you\n",
        "- again?\n",
        "- oh wait i gave you my work email address can i change it?\n",
        "- hang on let me find it\n",
        "- stop it, i do not care!!!\n",
        "- really? you're so touchy?\n",
        "- how come?\n",
        "- I changed my mind\n",
        "- what?\n",
        "- did i break you\n",
        "\n",
        " \n",
        "\n",
        "\"\"\"\n",
        "\n",
        "\n",
        "%store nlu_md >nlu.md"
      ]
    },
    {
      "cell_type": "code",
      "execution_count": null,
      "metadata": {
        "id": "EHr35Eosiy6R"
      },
      "outputs": [],
      "source": [
        "configuration = \"\"\"\n",
        "language: \"en\"\n",
        "\n",
        "pipeline:\n",
        "- name: \"tokenizer_whitespace\"             # splits the sentence into tokens\n",
        "- name: \"ner_crf\"                   # uses the pretrained spacy NER model\n",
        "- name: \"intent_featurizer_count_vectors\"     # transform the sentence into a vector representation\n",
        "- name: \"intent_classifier_tensorflow_embedding\"   # intent classifier\n",
        "- name: \"ner_synonyms\"     #trains synonyms component\n",
        "\"\"\" \n",
        "\n",
        "%store configuration > config.yml"
      ]
    },
    {
      "cell_type": "code",
      "execution_count": null,
      "metadata": {
        "id": "WfEEtYpoiy6S"
      },
      "outputs": [],
      "source": [
        "interpreter, model_directory = train_nlu_model()"
      ]
    },
    {
      "cell_type": "code",
      "execution_count": null,
      "metadata": {
        "id": "vOPKoiq0iy6T"
      },
      "outputs": [],
      "source": [
        "input_message = \"Do I have to do my homework\"\n",
        "pprint(interpreter.parse(input_message))"
      ]
    },
    {
      "cell_type": "code",
      "execution_count": null,
      "metadata": {
        "colab": {
          "base_uri": "https://localhost:8080/"
        },
        "id": "DA8bVsB_iy6T",
        "outputId": "610d11f9-7a0c-41d9-cc67-0d70fdd4794c"
      },
      "outputs": [
        {
          "output_type": "stream",
          "name": "stdout",
          "text": [
            "Writing 'nlu_md' (str) to file 'nlu.md'.\n"
          ]
        }
      ],
      "source": [
        "# Writing various intents with examples to nlu.md file\n",
        "\n",
        "nlu_md = \"\"\"\n",
        "## intent:greet\n",
        "- hey\n",
        "- hello there\n",
        "- hi\n",
        "- hello there\n",
        "- good morning\n",
        "- good evening\n",
        "- how far\n",
        "- hey there\n",
        "- whats up\n",
        "- hey dude\n",
        "- goodmorning\n",
        "- goodevening\n",
        "- good afternoon\n",
        "\n",
        "## intent:goodbye\n",
        "- good by\n",
        "- later\n",
        "- good night\n",
        "- good afternoon\n",
        "- bye\n",
        "- goodbye\n",
        "- have a nice day\n",
        "- see you around\n",
        "- bye bye\n",
        "- see you later\n",
        "\n",
        "## intent:thanks\n",
        "- thanks\n",
        "- thank you\n",
        "- appreciated\n",
        "- gracias\n",
        "\n",
        "\n",
        "## intent:sleep\n",
        "- when is bedtime\n",
        "- when is naptime\n",
        "- nap\n",
        "- sleep\n",
        "- tired\n",
        "- sleepy\n",
        "\n",
        "## intent: hungry\n",
        "- i am hungry\n",
        "- what time is lunch\n",
        "- what time is breakfast\n",
        "- what time is dinner\n",
        "- lunch\n",
        "- breakfast\n",
        "- dinner\n",
        "- snack time\n",
        "- snack\n",
        "\n",
        "\n",
        "## intent:schedule\n",
        "- what's next\n",
        "- what's in my schedule\n",
        "- schedule\n",
        "- do i have to do anything\n",
        "- what's next now\n",
        "- i don't know what to do\n",
        "\n",
        "\n",
        "## intent:tasks\n",
        "- what time is swimming\n",
        "- when do i have swimming\n",
        "- swimming \n",
        "- do i have to read\n",
        "- reading\n",
        "- what time do I have karate\n",
        "- karate\n",
        "- homework\n",
        "- when do I have to do my homework\n",
        "- when do I have my [task]\n",
        "- what time is [task]\n",
        "- do i have to [task]\n",
        "- do i have to do [task]\n",
        "- what time do I have [task]\n",
        "- what time do I have [task] today\n",
        "- what time do I have [task] tomorrow\n",
        "- what time do I have [task] next week\n",
        "\n",
        "\n",
        "## intent:out-of-scope\n",
        "- I want pizza\n",
        "- please help with my ice cream it's dripping\n",
        "- no wait go back i want a dripping ice cream but a cone that catches it so you can drink the ice cream later\n",
        "- i want a non dripping ice cream\n",
        "- hey little mama let em whisper in your ear\n",
        "- someone call the police i think the bot died\n",
        "- show me a picture of a chicken\n",
        "- neither\n",
        "- I want french cuisine\n",
        "- i am hungry\n",
        "- restaurants\n",
        "- restaurant\n",
        "- you're a loser lmao\n",
        "- can i be shown a gluten free restaurant\n",
        "- i don't care!!!!\n",
        "- i do not care how are you\n",
        "- again?\n",
        "- oh wait i gave you my work email address can i change it?\n",
        "- hang on let me find it\n",
        "- stop it, i do not care!!!\n",
        "- really? you're so touchy?\n",
        "- how come?\n",
        "- I changed my mind\n",
        "- what?\n",
        "- did i break you\n",
        "\n",
        " \n",
        "\n",
        "\"\"\"\n",
        "\n",
        "\n",
        "%store nlu_md >nlu.md"
      ]
    },
    {
      "cell_type": "code",
      "execution_count": null,
      "metadata": {
        "colab": {
          "base_uri": "https://localhost:8080/"
        },
        "id": "3PhrxzP5iy6V",
        "outputId": "b7a35eec-7a37-4e78-ee01-c9a2ea881628"
      },
      "outputs": [
        {
          "output_type": "stream",
          "name": "stdout",
          "text": [
            "Writing 'configuration' (str) to file 'config.yml'.\n"
          ]
        }
      ],
      "source": [
        "configuration = \"\"\"\n",
        "language: \"en\"\n",
        "\n",
        "pipeline:\n",
        "- name: \"tokenizer_whitespace\"             # splits the sentence into tokens\n",
        "- name: \"ner_crf\"                   # uses the pretrained spacy NER model\n",
        "- name: \"intent_featurizer_count_vectors\"     # transform the sentence into a vector representation\n",
        "- name: \"intent_classifier_tensorflow_embedding\"   # intent classifier\n",
        "  intent_tokenization_flag: true # sets multi-intent tokenization\n",
        "  intent_split_symbol: \"+\"       # sets which symbol should be used for tokenization\n",
        "- name: \"ner_synonyms\"   # trains synonyms component \n",
        "\"\"\" \n",
        "\n",
        "%store configuration > config.yml"
      ]
    },
    {
      "cell_type": "code",
      "execution_count": null,
      "metadata": {
        "id": "6WVbXEbHiy6V"
      },
      "outputs": [],
      "source": [
        "interpreter, model_directory = train_nlu_model()"
      ]
    },
    {
      "cell_type": "code",
      "execution_count": null,
      "metadata": {
        "id": "4Rp37MJaiy6W"
      },
      "outputs": [],
      "source": [
        "input_message = \"what time do i have cooking today\"\n",
        "pprint(interpreter.parse(input_message))"
      ]
    },
    {
      "cell_type": "markdown",
      "metadata": {
        "id": "2a8-V2h5iy6W"
      },
      "source": []
    },
    {
      "cell_type": "markdown",
      "metadata": {
        "id": "YAvpFPH2iy6W"
      },
      "source": [
        "## 1.8 Evaluating the NLU model\n",
        "\n"
      ]
    },
    {
      "cell_type": "code",
      "execution_count": null,
      "metadata": {
        "id": "diklBViWiy6X"
      },
      "outputs": [],
      "source": [
        "from rasa_nlu.test import run_evaluation\n",
        "import IPython\n",
        "from IPython import display\n",
        "\n",
        "run_evaluation(\"nlu.md\", model_directory)"
      ]
    },
    {
      "cell_type": "markdown",
      "metadata": {
        "id": "rQ4nsX3Ciy6X"
      },
      "source": [
        "# 2. Dialogue Management\n"
      ]
    },
    {
      "cell_type": "markdown",
      "metadata": {
        "id": "taCmqSkyiy6Z"
      },
      "source": [
        "## 2.1 Designing the training stories"
      ]
    },
    {
      "cell_type": "code",
      "execution_count": null,
      "metadata": {
        "id": "IW5W6Q3hiy6a"
      },
      "outputs": [],
      "source": [
        "stories_md = \"\"\"\n",
        "## happy path all info 1               \n",
        "* greet              \n",
        "  - utter_greet\n",
        "* tasks\n",
        "  - \n",
        "* length\n",
        "  - utter_length\n",
        "* thanks\n",
        "  - utter_thanks\n",
        "  \n",
        "  \n",
        "## happy path all info 2               \n",
        "* greet              \n",
        "  - utter_greet\n",
        "* recommend_session{\"relevant_audience\":\"Data Scientists\"}               \n",
        "  - action_recommend_session\n",
        "  - slot{\"speaker\":\"Justina\"}\n",
        "  - slot{\"length\":\"5 min\"}\n",
        "  - slot{\"abstract\":\"Workshop on chatbots\"}\n",
        "* length\n",
        "  - utter_length\n",
        "* speaker\n",
        "  - utter_speaker\n",
        "* thanks\n",
        "  - utter_thanks    \n",
        "  \n",
        "\n",
        "## happy path all info 3               \n",
        "* greet              \n",
        "  - utter_greet\n",
        "* speaker\n",
        "  - utter_speaker\n",
        "* length\n",
        "  - utter_length\n",
        "* thanks\n",
        "  - utter_thanks  \n",
        "\n",
        "\n",
        "## happy path no relevant audience            \n",
        "* greet              \n",
        "  - utter_greet\n",
        "* recommend_session\n",
        "  - utter_ask_relevant_audience\n",
        "* inform{\"relevant_audience\":\"Data Scientists\"}\n",
        "  - action_recommend_session\n",
        "  - slot{\"speaker\":\"Justina\"}\n",
        "  - slot{\"length\":\"5 min\"}\n",
        "  - slot{\"abstract\":\"Workshop on chatbots\"}\n",
        "* length\n",
        "  - utter_length\n",
        "* speaker\n",
        "  - utter_speaker\n",
        "* thanks\n",
        "  - utter_thanks \n",
        "\n",
        "\"\"\"\n",
        "\n",
        "%store stories_md > stories.md"
      ]
    },
    {
      "cell_type": "markdown",
      "metadata": {
        "id": "Y4CLhPnQiy6h"
      },
      "source": [
        "## 2.2 Defining the domain\n",
        "\n"
      ]
    },
    {
      "cell_type": "code",
      "execution_count": null,
      "metadata": {
        "id": "CfnhugZriy6h",
        "colab": {
          "base_uri": "https://localhost:8080/"
        },
        "outputId": "7160f4e5-2329-4494-b45e-3aaf1395165d"
      },
      "outputs": [
        {
          "output_type": "stream",
          "name": "stdout",
          "text": [
            "Writing 'domain_yml' (str) to file 'domain.yml'.\n"
          ]
        }
      ],
      "source": [
        "domain_yml = \"\"\"\n",
        "intents:\n",
        "- greet\n",
        "- goodbye\n",
        "- thanks\n",
        "- sleep\n",
        "- hungry\n",
        "- schedule\n",
        "- tasks\n",
        "- out-of-scope\n",
        "\n",
        "\n",
        "\n",
        "\n",
        "slots:\n",
        "  tasks:\n",
        "    type: unfeaturized\n",
        "  time:\n",
        "    type: unfeaturized\n",
        "    \n",
        "\n",
        "\n",
        "\n",
        "actions:\n",
        "- utter_greet\n",
        "- utter_thanks\n",
        "- utter_goodbye\n",
        "- utter_sleep\n",
        "- utter_abstract\n",
        "- utter_hungry\n",
        "- utter_schedule\n",
        "- utter_tasks\n",
        "- utter_out_of_scope\n",
        "\n",
        "templates:\n",
        "  utter_greet:\n",
        "    - text: \"Hey! What's up\"\n",
        "\n",
        "  utter_thanks:\n",
        "    - text: \"You are very welcome!\"\n",
        "\n",
        "  utter_goodbye:\n",
        "    - text: \"See you later\"\n",
        "  \n",
        "  utter_out_of_scope:\n",
        "    - text: \"Sorry, I can't help you with that\"\n",
        "  \n",
        "  utter_schedule:\n",
        "    - text: \"Your test task is  {tasks} at {time}\"\n",
        "  \n",
        "  utter_tasks:\n",
        "    - text: \"You have {tasks} at {time}\"\n",
        "    \n",
        "  utter_sleep:\n",
        "    - text: \"Your next naptime is at {time}\"\n",
        "\n",
        "  utter_hungry:\n",
        "    - text: \"Your next mealtime is at {time}\"\n",
        "\n",
        "\"\"\"\n",
        "\n",
        "%store domain_yml > domain.yml"
      ]
    },
    {
      "cell_type": "markdown",
      "metadata": {
        "id": "Yopb4Zqaiy6h"
      },
      "source": [
        "## 2.5 Training the dialogue model\n",
        "\n"
      ]
    },
    {
      "cell_type": "code",
      "execution_count": null,
      "metadata": {
        "id": "hWQZyxQsiy6h"
      },
      "outputs": [],
      "source": [
        "from rasa_core.policies import KerasPolicy, MemoizationPolicy\n",
        "from rasa_core.agent import Agent\n",
        "\n",
        "def train_dialogue():\n",
        "    # loading our neatly defined training dialogues\n",
        "    agent = Agent(\"domain.yml\", policies=[MemoizationPolicy(), KerasPolicy(epochs=200, max_history = 6)])\n",
        "    training_data = agent.load_data('stories.md')\n",
        "\n",
        "\n",
        "    agent.train(\n",
        "        training_data)\n",
        "\n",
        "    agent.persist('models/dialogue')\n"
      ]
    },
    {
      "cell_type": "code",
      "execution_count": null,
      "metadata": {
        "id": "GAJcjgpwiy6i"
      },
      "outputs": [],
      "source": [
        "train_dialogue()"
      ]
    },
    {
      "cell_type": "markdown",
      "metadata": {
        "id": "OdKTYsKeiy6i"
      },
      "source": [
        "## 2.6 Testing the dialogue model\n",
        "\n"
      ]
    },
    {
      "cell_type": "code",
      "execution_count": null,
      "metadata": {
        "id": "nPGryUIbiy6i"
      },
      "outputs": [],
      "source": [
        "import IPython\n",
        "from IPython.display import clear_output\n",
        "from rasa_core.agent import Agent\n",
        "from rasa_core.interpreter import NaturalLanguageInterpreter\n",
        "from rasa_core.utils import EndpointConfig\n",
        "import time\n",
        "\n",
        "def load_assistant():\n",
        "    messages = [\"Hi! you can chat in this window. Type 'stop' to end the conversation.\"]\n",
        "    interpreter = NaturalLanguageInterpreter.create(model_directory)\n",
        "    endpoint = EndpointConfig('http://localhost:5055/webhook')\n",
        "    agent = Agent.load('models/dialogue', interpreter=interpreter, action_endpoint = endpoint)\n",
        "\n",
        "    print(\"Your bot is ready to talk! Type your messages here or send 'stop'\")\n",
        "    while True:\n",
        "        a = input()\n",
        "        if a == 'stop':\n",
        "            break\n",
        "        responses = agent.handle_text(a)\n",
        "        for response in responses:\n",
        "            print(response[\"text\"])"
      ]
    },
    {
      "cell_type": "code",
      "execution_count": null,
      "metadata": {
        "id": "V5d-sw21iy6j"
      },
      "outputs": [],
      "source": [
        "load_assistant()"
      ]
    },
    {
      "cell_type": "markdown",
      "metadata": {
        "id": "7lBCd_8niy6m"
      },
      "source": [
        "## 2.7 Dialogue model evaluation"
      ]
    },
    {
      "cell_type": "code",
      "execution_count": null,
      "metadata": {
        "id": "SI4SOsGDiy6m"
      },
      "outputs": [],
      "source": [
        "\n",
        "!python -m rasa_core.evaluate --core models/dialogue --stories stories.md -o results\n"
      ]
    }
  ],
  "metadata": {
    "kernelspec": {
      "display_name": "Python 3.10.4 64-bit",
      "language": "python",
      "name": "python3"
    },
    "language_info": {
      "codemirror_mode": {
        "name": "ipython",
        "version": 3
      },
      "file_extension": ".py",
      "mimetype": "text/x-python",
      "name": "python",
      "nbconvert_exporter": "python",
      "pygments_lexer": "ipython3",
      "version": "3.10.4"
    },
    "vscode": {
      "interpreter": {
        "hash": "369f2c481f4da34e4445cda3fffd2e751bd1c4d706f27375911949ba6bb62e1c"
      }
    },
    "colab": {
      "provenance": []
    }
  },
  "nbformat": 4,
  "nbformat_minor": 0
}